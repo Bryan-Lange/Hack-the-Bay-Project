{
 "cells": [
  {
   "cell_type": "code",
   "execution_count": 1,
   "metadata": {},
   "outputs": [],
   "source": [
    "import pandas as pd \n",
    "import numpy as np \n",
    "import requests\n",
    "import seaborn as sns\n",
    "import matplotlib.pyplot as plt"
   ]
  },
  {
   "cell_type": "code",
   "execution_count": 2,
   "metadata": {},
   "outputs": [],
   "source": [
    "water = pd.read_csv('../data/Water_FINAL.csv')"
   ]
  },
  {
   "cell_type": "code",
   "execution_count": 3,
   "metadata": {},
   "outputs": [
    {
     "output_type": "execute_result",
     "data": {
      "text/plain": "   Unnamed: 0  Unnamed: 0.1 Agency BiasPC CloudCover Comments Cruise Database  \\\n0           0          2143    NaN    NaN        NaN      NaN    NaN      CMC   \n1           1          2145    NaN    NaN        NaN      NaN    NaN      CMC   \n2           2          2147    NaN    NaN        NaN      NaN    NaN      CMC   \n3           3          2151    NaN    NaN        NaN      NaN    NaN      CMC   \n4           4          2152    NaN    NaN        NaN      NaN    NaN      CMC   \n5           5          2154    NaN    NaN        NaN      NaN    NaN      CMC   \n6           6          2388    NaN    NaN        NaN      NaN    NaN      CMC   \n7           7          2391    NaN    NaN        NaN      NaN    NaN      CMC   \n8           8          2394    NaN    NaN        NaN      NaN    NaN      CMC   \n9           9          2399    NaN    NaN        NaN      NaN    NaN      CMC   \n\n         Date FieldActivityEventType  ...  Weather Conditions Yesterday  \\\n0  04/28/2018                    NaN  ...                           NaN   \n1  04/28/2018                    NaN  ...                           NaN   \n2  04/28/2018                    NaN  ...                           NaN   \n3  04/28/2018                    NaN  ...                           NaN   \n4  04/28/2018                    NaN  ...                           NaN   \n5  04/28/2018                    NaN  ...                           NaN   \n6  05/08/2018                    NaN  ...                           NaN   \n7  05/08/2018                    NaN  ...                           NaN   \n8  05/08/2018                    NaN  ...                           NaN   \n9  05/08/2018                    NaN  ...                           NaN   \n\n  WindDirection   WindSpeed state                                 Point  \\\n0             W  1-10 knots    MD  POINT (-75.93002800000002 39.480194)   \n1             W  1-10 knots    MD          POINT (-75.902528 39.480444)   \n2             S  1-10 knots    MD          POINT (-75.873639 39.466889)   \n3            SW  1-10 knots    MD             POINT (-75.854444 39.454)   \n4            SW  1-10 knots    MD  POINT (-75.84352800000001 39.463667)   \n5            SW  1-10 knots    MD  POINT (-75.88005600000002 39.459333)   \n6             S  1-10 knots    MD  POINT (-75.93002800000002 39.480194)   \n7             E  1-10 knots    MD          POINT (-75.902528 39.480444)   \n8             E  1-10 knots    MD          POINT (-75.873639 39.466889)   \n9             E  1-10 knots    MD             POINT (-75.854444 39.454)   \n\n        HUC12_       HUCNAME_  FIPS_       COUNTY_  STATE_  \n0  20600020206  Bohemia River  24015  Cecil County      MD  \n1  20600020206  Bohemia River  24015  Cecil County      MD  \n2  20600020206  Bohemia River  24015  Cecil County      MD  \n3  20600020206  Bohemia River  24015  Cecil County      MD  \n4  20600020206  Bohemia River  24015  Cecil County      MD  \n5  20600020206  Bohemia River  24015  Cecil County      MD  \n6  20600020206  Bohemia River  24015  Cecil County      MD  \n7  20600020206  Bohemia River  24015  Cecil County      MD  \n8  20600020206  Bohemia River  24015  Cecil County      MD  \n9  20600020206  Bohemia River  24015  Cecil County      MD  \n\n[10 rows x 73 columns]",
      "text/html": "<div>\n<style scoped>\n    .dataframe tbody tr th:only-of-type {\n        vertical-align: middle;\n    }\n\n    .dataframe tbody tr th {\n        vertical-align: top;\n    }\n\n    .dataframe thead th {\n        text-align: right;\n    }\n</style>\n<table border=\"1\" class=\"dataframe\">\n  <thead>\n    <tr style=\"text-align: right;\">\n      <th></th>\n      <th>Unnamed: 0</th>\n      <th>Unnamed: 0.1</th>\n      <th>Agency</th>\n      <th>BiasPC</th>\n      <th>CloudCover</th>\n      <th>Comments</th>\n      <th>Cruise</th>\n      <th>Database</th>\n      <th>Date</th>\n      <th>FieldActivityEventType</th>\n      <th>...</th>\n      <th>Weather Conditions Yesterday</th>\n      <th>WindDirection</th>\n      <th>WindSpeed</th>\n      <th>state</th>\n      <th>Point</th>\n      <th>HUC12_</th>\n      <th>HUCNAME_</th>\n      <th>FIPS_</th>\n      <th>COUNTY_</th>\n      <th>STATE_</th>\n    </tr>\n  </thead>\n  <tbody>\n    <tr>\n      <th>0</th>\n      <td>0</td>\n      <td>2143</td>\n      <td>NaN</td>\n      <td>NaN</td>\n      <td>NaN</td>\n      <td>NaN</td>\n      <td>NaN</td>\n      <td>CMC</td>\n      <td>04/28/2018</td>\n      <td>NaN</td>\n      <td>...</td>\n      <td>NaN</td>\n      <td>W</td>\n      <td>1-10 knots</td>\n      <td>MD</td>\n      <td>POINT (-75.93002800000002 39.480194)</td>\n      <td>20600020206</td>\n      <td>Bohemia River</td>\n      <td>24015</td>\n      <td>Cecil County</td>\n      <td>MD</td>\n    </tr>\n    <tr>\n      <th>1</th>\n      <td>1</td>\n      <td>2145</td>\n      <td>NaN</td>\n      <td>NaN</td>\n      <td>NaN</td>\n      <td>NaN</td>\n      <td>NaN</td>\n      <td>CMC</td>\n      <td>04/28/2018</td>\n      <td>NaN</td>\n      <td>...</td>\n      <td>NaN</td>\n      <td>W</td>\n      <td>1-10 knots</td>\n      <td>MD</td>\n      <td>POINT (-75.902528 39.480444)</td>\n      <td>20600020206</td>\n      <td>Bohemia River</td>\n      <td>24015</td>\n      <td>Cecil County</td>\n      <td>MD</td>\n    </tr>\n    <tr>\n      <th>2</th>\n      <td>2</td>\n      <td>2147</td>\n      <td>NaN</td>\n      <td>NaN</td>\n      <td>NaN</td>\n      <td>NaN</td>\n      <td>NaN</td>\n      <td>CMC</td>\n      <td>04/28/2018</td>\n      <td>NaN</td>\n      <td>...</td>\n      <td>NaN</td>\n      <td>S</td>\n      <td>1-10 knots</td>\n      <td>MD</td>\n      <td>POINT (-75.873639 39.466889)</td>\n      <td>20600020206</td>\n      <td>Bohemia River</td>\n      <td>24015</td>\n      <td>Cecil County</td>\n      <td>MD</td>\n    </tr>\n    <tr>\n      <th>3</th>\n      <td>3</td>\n      <td>2151</td>\n      <td>NaN</td>\n      <td>NaN</td>\n      <td>NaN</td>\n      <td>NaN</td>\n      <td>NaN</td>\n      <td>CMC</td>\n      <td>04/28/2018</td>\n      <td>NaN</td>\n      <td>...</td>\n      <td>NaN</td>\n      <td>SW</td>\n      <td>1-10 knots</td>\n      <td>MD</td>\n      <td>POINT (-75.854444 39.454)</td>\n      <td>20600020206</td>\n      <td>Bohemia River</td>\n      <td>24015</td>\n      <td>Cecil County</td>\n      <td>MD</td>\n    </tr>\n    <tr>\n      <th>4</th>\n      <td>4</td>\n      <td>2152</td>\n      <td>NaN</td>\n      <td>NaN</td>\n      <td>NaN</td>\n      <td>NaN</td>\n      <td>NaN</td>\n      <td>CMC</td>\n      <td>04/28/2018</td>\n      <td>NaN</td>\n      <td>...</td>\n      <td>NaN</td>\n      <td>SW</td>\n      <td>1-10 knots</td>\n      <td>MD</td>\n      <td>POINT (-75.84352800000001 39.463667)</td>\n      <td>20600020206</td>\n      <td>Bohemia River</td>\n      <td>24015</td>\n      <td>Cecil County</td>\n      <td>MD</td>\n    </tr>\n    <tr>\n      <th>5</th>\n      <td>5</td>\n      <td>2154</td>\n      <td>NaN</td>\n      <td>NaN</td>\n      <td>NaN</td>\n      <td>NaN</td>\n      <td>NaN</td>\n      <td>CMC</td>\n      <td>04/28/2018</td>\n      <td>NaN</td>\n      <td>...</td>\n      <td>NaN</td>\n      <td>SW</td>\n      <td>1-10 knots</td>\n      <td>MD</td>\n      <td>POINT (-75.88005600000002 39.459333)</td>\n      <td>20600020206</td>\n      <td>Bohemia River</td>\n      <td>24015</td>\n      <td>Cecil County</td>\n      <td>MD</td>\n    </tr>\n    <tr>\n      <th>6</th>\n      <td>6</td>\n      <td>2388</td>\n      <td>NaN</td>\n      <td>NaN</td>\n      <td>NaN</td>\n      <td>NaN</td>\n      <td>NaN</td>\n      <td>CMC</td>\n      <td>05/08/2018</td>\n      <td>NaN</td>\n      <td>...</td>\n      <td>NaN</td>\n      <td>S</td>\n      <td>1-10 knots</td>\n      <td>MD</td>\n      <td>POINT (-75.93002800000002 39.480194)</td>\n      <td>20600020206</td>\n      <td>Bohemia River</td>\n      <td>24015</td>\n      <td>Cecil County</td>\n      <td>MD</td>\n    </tr>\n    <tr>\n      <th>7</th>\n      <td>7</td>\n      <td>2391</td>\n      <td>NaN</td>\n      <td>NaN</td>\n      <td>NaN</td>\n      <td>NaN</td>\n      <td>NaN</td>\n      <td>CMC</td>\n      <td>05/08/2018</td>\n      <td>NaN</td>\n      <td>...</td>\n      <td>NaN</td>\n      <td>E</td>\n      <td>1-10 knots</td>\n      <td>MD</td>\n      <td>POINT (-75.902528 39.480444)</td>\n      <td>20600020206</td>\n      <td>Bohemia River</td>\n      <td>24015</td>\n      <td>Cecil County</td>\n      <td>MD</td>\n    </tr>\n    <tr>\n      <th>8</th>\n      <td>8</td>\n      <td>2394</td>\n      <td>NaN</td>\n      <td>NaN</td>\n      <td>NaN</td>\n      <td>NaN</td>\n      <td>NaN</td>\n      <td>CMC</td>\n      <td>05/08/2018</td>\n      <td>NaN</td>\n      <td>...</td>\n      <td>NaN</td>\n      <td>E</td>\n      <td>1-10 knots</td>\n      <td>MD</td>\n      <td>POINT (-75.873639 39.466889)</td>\n      <td>20600020206</td>\n      <td>Bohemia River</td>\n      <td>24015</td>\n      <td>Cecil County</td>\n      <td>MD</td>\n    </tr>\n    <tr>\n      <th>9</th>\n      <td>9</td>\n      <td>2399</td>\n      <td>NaN</td>\n      <td>NaN</td>\n      <td>NaN</td>\n      <td>NaN</td>\n      <td>NaN</td>\n      <td>CMC</td>\n      <td>05/08/2018</td>\n      <td>NaN</td>\n      <td>...</td>\n      <td>NaN</td>\n      <td>E</td>\n      <td>1-10 knots</td>\n      <td>MD</td>\n      <td>POINT (-75.854444 39.454)</td>\n      <td>20600020206</td>\n      <td>Bohemia River</td>\n      <td>24015</td>\n      <td>Cecil County</td>\n      <td>MD</td>\n    </tr>\n  </tbody>\n</table>\n<p>10 rows × 73 columns</p>\n</div>"
     },
     "metadata": {},
     "execution_count": 3
    }
   ],
   "source": [
    "water.head(10)"
   ]
  },
  {
   "cell_type": "code",
   "execution_count": 4,
   "metadata": {},
   "outputs": [
    {
     "output_type": "execute_result",
     "data": {
      "text/plain": "(2708717, 73)"
     },
     "metadata": {},
     "execution_count": 4
    }
   ],
   "source": [
    "water.shape"
   ]
  },
  {
   "cell_type": "code",
   "execution_count": 7,
   "metadata": {},
   "outputs": [
    {
     "output_type": "execute_result",
     "data": {
      "text/plain": "         Unnamed: 0  Unnamed: 0.1  FieldActivityRemark   GaugeHeight  \\\ncount  2.708717e+06  2.708717e+06                  0.0  99773.000000   \nmean   1.354358e+06  2.214989e+06                  NaN     10.861847   \nstd    7.819394e+05  1.525271e+06                  NaN    353.141177   \nmin    0.000000e+00  0.000000e+00                  NaN     -0.290000   \n25%    6.771790e+05  8.509090e+05                  NaN      2.210000   \n50%    1.354358e+06  2.185441e+06                  NaN      3.210000   \n75%    2.031537e+06  3.530615e+06                  NaN      5.190000   \nmax    2.708716e+06  4.897264e+06                  NaN  35500.000000   \n\n              HUC12      Latitude     Longitude  LowerPycnocline  \\\ncount  2.444456e+06  2.708717e+06  2.708717e+06    424435.000000   \nmean   2.070009e+10  3.843319e+01 -7.658405e+01        11.318739   \nstd    9.915505e+07  1.000394e+00  6.551539e-01         5.302668   \nmin    2.040303e+10  3.674004e+01 -8.043708e+01         0.700000   \n25%    2.060002e+10  3.763189e+01 -7.686761e+01         7.000000   \n50%    2.070011e+10  3.839600e+01 -7.640131e+01        10.500000   \n75%    2.080105e+10  3.899748e+01 -7.617466e+01        14.500000   \nmax    2.080208e+10  4.280672e+01 -7.483524e+01        30.500000   \n\n       MeasureValue  PrecisionPC      Pressure   SampleDepth      SampleId  \\\ncount  2.708717e+06          0.0  74079.000000  2.704881e+06  2.708717e+06   \nmean   1.490216e+01          NaN    754.894667  4.147473e+00  2.044871e+05   \nstd    7.579417e+01          NaN     28.707134  5.776304e+00  1.856555e+05   \nmin   -1.400000e+01          NaN      1.000000 -1.000000e-01  1.000000e+00   \n25%    1.000400e+00          NaN    751.000000  5.000000e-01  3.035200e+04   \n50%    7.700000e+00          NaN    758.000000  1.250000e+00  1.070730e+05   \n75%    1.333000e+01          NaN    763.000000  6.000000e+00  4.139770e+05   \nmax    2.977700e+04          NaN    787.000000  3.600000e+01  4.620910e+05   \n\n         TotalDepth  UpperPycnocline        HUC12_         FIPS_  \ncount  2.105652e+06    424435.000000  2.708717e+06  2.708717e+06  \nmean   1.149991e+01         6.650813  2.069454e+10  3.578554e+04  \nstd    9.183738e+00         3.276481  1.031873e+08  1.344905e+04  \nmin    0.000000e+00         0.000000  2.040303e+10  1.000100e+04  \n25%    3.700000e+00         4.500000  2.060002e+10  2.401900e+04  \n50%    1.000000e+01         6.500000  2.070010e+10  2.404100e+04  \n75%    1.600000e+01         8.500000  2.080105e+10  5.110100e+04  \nmax    1.530000e+02        21.500000  2.080208e+10  5.407100e+04  ",
      "text/html": "<div>\n<style scoped>\n    .dataframe tbody tr th:only-of-type {\n        vertical-align: middle;\n    }\n\n    .dataframe tbody tr th {\n        vertical-align: top;\n    }\n\n    .dataframe thead th {\n        text-align: right;\n    }\n</style>\n<table border=\"1\" class=\"dataframe\">\n  <thead>\n    <tr style=\"text-align: right;\">\n      <th></th>\n      <th>Unnamed: 0</th>\n      <th>Unnamed: 0.1</th>\n      <th>FieldActivityRemark</th>\n      <th>GaugeHeight</th>\n      <th>HUC12</th>\n      <th>Latitude</th>\n      <th>Longitude</th>\n      <th>LowerPycnocline</th>\n      <th>MeasureValue</th>\n      <th>PrecisionPC</th>\n      <th>Pressure</th>\n      <th>SampleDepth</th>\n      <th>SampleId</th>\n      <th>TotalDepth</th>\n      <th>UpperPycnocline</th>\n      <th>HUC12_</th>\n      <th>FIPS_</th>\n    </tr>\n  </thead>\n  <tbody>\n    <tr>\n      <th>count</th>\n      <td>2.708717e+06</td>\n      <td>2.708717e+06</td>\n      <td>0.0</td>\n      <td>99773.000000</td>\n      <td>2.444456e+06</td>\n      <td>2.708717e+06</td>\n      <td>2.708717e+06</td>\n      <td>424435.000000</td>\n      <td>2.708717e+06</td>\n      <td>0.0</td>\n      <td>74079.000000</td>\n      <td>2.704881e+06</td>\n      <td>2.708717e+06</td>\n      <td>2.105652e+06</td>\n      <td>424435.000000</td>\n      <td>2.708717e+06</td>\n      <td>2.708717e+06</td>\n    </tr>\n    <tr>\n      <th>mean</th>\n      <td>1.354358e+06</td>\n      <td>2.214989e+06</td>\n      <td>NaN</td>\n      <td>10.861847</td>\n      <td>2.070009e+10</td>\n      <td>3.843319e+01</td>\n      <td>-7.658405e+01</td>\n      <td>11.318739</td>\n      <td>1.490216e+01</td>\n      <td>NaN</td>\n      <td>754.894667</td>\n      <td>4.147473e+00</td>\n      <td>2.044871e+05</td>\n      <td>1.149991e+01</td>\n      <td>6.650813</td>\n      <td>2.069454e+10</td>\n      <td>3.578554e+04</td>\n    </tr>\n    <tr>\n      <th>std</th>\n      <td>7.819394e+05</td>\n      <td>1.525271e+06</td>\n      <td>NaN</td>\n      <td>353.141177</td>\n      <td>9.915505e+07</td>\n      <td>1.000394e+00</td>\n      <td>6.551539e-01</td>\n      <td>5.302668</td>\n      <td>7.579417e+01</td>\n      <td>NaN</td>\n      <td>28.707134</td>\n      <td>5.776304e+00</td>\n      <td>1.856555e+05</td>\n      <td>9.183738e+00</td>\n      <td>3.276481</td>\n      <td>1.031873e+08</td>\n      <td>1.344905e+04</td>\n    </tr>\n    <tr>\n      <th>min</th>\n      <td>0.000000e+00</td>\n      <td>0.000000e+00</td>\n      <td>NaN</td>\n      <td>-0.290000</td>\n      <td>2.040303e+10</td>\n      <td>3.674004e+01</td>\n      <td>-8.043708e+01</td>\n      <td>0.700000</td>\n      <td>-1.400000e+01</td>\n      <td>NaN</td>\n      <td>1.000000</td>\n      <td>-1.000000e-01</td>\n      <td>1.000000e+00</td>\n      <td>0.000000e+00</td>\n      <td>0.000000</td>\n      <td>2.040303e+10</td>\n      <td>1.000100e+04</td>\n    </tr>\n    <tr>\n      <th>25%</th>\n      <td>6.771790e+05</td>\n      <td>8.509090e+05</td>\n      <td>NaN</td>\n      <td>2.210000</td>\n      <td>2.060002e+10</td>\n      <td>3.763189e+01</td>\n      <td>-7.686761e+01</td>\n      <td>7.000000</td>\n      <td>1.000400e+00</td>\n      <td>NaN</td>\n      <td>751.000000</td>\n      <td>5.000000e-01</td>\n      <td>3.035200e+04</td>\n      <td>3.700000e+00</td>\n      <td>4.500000</td>\n      <td>2.060002e+10</td>\n      <td>2.401900e+04</td>\n    </tr>\n    <tr>\n      <th>50%</th>\n      <td>1.354358e+06</td>\n      <td>2.185441e+06</td>\n      <td>NaN</td>\n      <td>3.210000</td>\n      <td>2.070011e+10</td>\n      <td>3.839600e+01</td>\n      <td>-7.640131e+01</td>\n      <td>10.500000</td>\n      <td>7.700000e+00</td>\n      <td>NaN</td>\n      <td>758.000000</td>\n      <td>1.250000e+00</td>\n      <td>1.070730e+05</td>\n      <td>1.000000e+01</td>\n      <td>6.500000</td>\n      <td>2.070010e+10</td>\n      <td>2.404100e+04</td>\n    </tr>\n    <tr>\n      <th>75%</th>\n      <td>2.031537e+06</td>\n      <td>3.530615e+06</td>\n      <td>NaN</td>\n      <td>5.190000</td>\n      <td>2.080105e+10</td>\n      <td>3.899748e+01</td>\n      <td>-7.617466e+01</td>\n      <td>14.500000</td>\n      <td>1.333000e+01</td>\n      <td>NaN</td>\n      <td>763.000000</td>\n      <td>6.000000e+00</td>\n      <td>4.139770e+05</td>\n      <td>1.600000e+01</td>\n      <td>8.500000</td>\n      <td>2.080105e+10</td>\n      <td>5.110100e+04</td>\n    </tr>\n    <tr>\n      <th>max</th>\n      <td>2.708716e+06</td>\n      <td>4.897264e+06</td>\n      <td>NaN</td>\n      <td>35500.000000</td>\n      <td>2.080208e+10</td>\n      <td>4.280672e+01</td>\n      <td>-7.483524e+01</td>\n      <td>30.500000</td>\n      <td>2.977700e+04</td>\n      <td>NaN</td>\n      <td>787.000000</td>\n      <td>3.600000e+01</td>\n      <td>4.620910e+05</td>\n      <td>1.530000e+02</td>\n      <td>21.500000</td>\n      <td>2.080208e+10</td>\n      <td>5.407100e+04</td>\n    </tr>\n  </tbody>\n</table>\n</div>"
     },
     "metadata": {},
     "execution_count": 7
    }
   ],
   "source": [
    "water.describe()"
   ]
  },
  {
   "cell_type": "code",
   "execution_count": 8,
   "metadata": {},
   "outputs": [
    {
     "output_type": "execute_result",
     "data": {
      "text/plain": "Unnamed: 0            0\nUnnamed: 0.1          0\nAgency           264261\nBiasPC          2708662\nCloudCover       476847\n                 ...   \nHUC12_                0\nHUCNAME_              0\nFIPS_                 0\nCOUNTY_               0\nSTATE_                0\nLength: 73, dtype: int64"
     },
     "metadata": {},
     "execution_count": 8
    }
   ],
   "source": [
    "water.isnull().sum()"
   ]
  },
  {
   "cell_type": "code",
   "execution_count": null,
   "metadata": {},
   "outputs": [],
   "source": []
  },
  {
   "cell_type": "code",
   "execution_count": null,
   "metadata": {},
   "outputs": [],
   "source": []
  }
 ],
 "metadata": {
  "language_info": {
   "codemirror_mode": {
    "name": "ipython",
    "version": 3
   },
   "file_extension": ".py",
   "mimetype": "text/x-python",
   "name": "python",
   "nbconvert_exporter": "python",
   "pygments_lexer": "ipython3",
   "version": "3.7.6-final"
  },
  "orig_nbformat": 2,
  "kernelspec": {
   "name": "python3",
   "display_name": "Python 3"
  }
 },
 "nbformat": 4,
 "nbformat_minor": 2
}